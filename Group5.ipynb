{
  "nbformat": 4,
  "nbformat_minor": 0,
  "metadata": {
    "colab": {
      "provenance": [],
      "authorship_tag": "ABX9TyNPfR8TCQ98XFFz1tqvPXrx",
      "include_colab_link": true
    },
    "kernelspec": {
      "name": "python3",
      "display_name": "Python 3"
    },
    "language_info": {
      "name": "python"
    }
  },
  "cells": [
    {
      "cell_type": "markdown",
      "metadata": {
        "id": "view-in-github",
        "colab_type": "text"
      },
      "source": [
        "<a href=\"https://colab.research.google.com/github/vhinatav/IAT461_Group5/blob/main/Group5.ipynb\" target=\"_parent\"><img src=\"https://colab.research.google.com/assets/colab-badge.svg\" alt=\"Open In Colab\"/></a>"
      ]
    },
    {
      "cell_type": "markdown",
      "source": [
        "#**CLASSIFICATION PIPELINE**"
      ],
      "metadata": {
        "id": "utXD_aYDJDSA"
      }
    },
    {
      "cell_type": "markdown",
      "source": [
        "#Preprocessing\n",
        "---"
      ],
      "metadata": {
        "id": "Nd9-IFi5HvZW"
      }
    },
    {
      "cell_type": "markdown",
      "source": [],
      "metadata": {
        "id": "03z16rPVJ4gE"
      }
    },
    {
      "cell_type": "code",
      "source": [],
      "metadata": {
        "id": "9R03yll5KkBg"
      },
      "execution_count": null,
      "outputs": []
    },
    {
      "cell_type": "markdown",
      "source": [
        "#Feature Engineering\n",
        "---"
      ],
      "metadata": {
        "id": "WzTl4BFBIQec"
      }
    },
    {
      "cell_type": "markdown",
      "source": [],
      "metadata": {
        "id": "Eg_knA0gJ70P"
      }
    },
    {
      "cell_type": "code",
      "source": [],
      "metadata": {
        "id": "yB16eXlgKmb2"
      },
      "execution_count": null,
      "outputs": []
    },
    {
      "cell_type": "markdown",
      "source": [
        "#Modeling\n",
        "---"
      ],
      "metadata": {
        "id": "qczR-jk0IGWk"
      }
    },
    {
      "cell_type": "markdown",
      "source": [],
      "metadata": {
        "id": "YLsPu0CEJ-sF"
      }
    },
    {
      "cell_type": "code",
      "source": [],
      "metadata": {
        "id": "efg-812_KpVN"
      },
      "execution_count": null,
      "outputs": []
    },
    {
      "cell_type": "markdown",
      "source": [
        "#Interpretation & Insights\n",
        "---"
      ],
      "metadata": {
        "id": "XLC2hKy5IW9G"
      }
    },
    {
      "cell_type": "markdown",
      "source": [],
      "metadata": {
        "id": "8v5pEZ49KAqt"
      }
    },
    {
      "cell_type": "code",
      "source": [],
      "metadata": {
        "id": "NQbA6EbyKrgD"
      },
      "execution_count": null,
      "outputs": []
    }
  ]
}